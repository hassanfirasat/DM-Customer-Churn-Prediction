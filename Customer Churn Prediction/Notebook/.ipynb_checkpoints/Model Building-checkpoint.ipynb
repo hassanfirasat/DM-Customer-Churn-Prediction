{
 "cells": [
  {
   "cell_type": "markdown",
   "id": "df92925f",
   "metadata": {},
   "source": [
    "# IMPORT LIBRARIES"
   ]
  },
  {
   "cell_type": "code",
   "execution_count": 1,
   "id": "72f75da2",
   "metadata": {},
   "outputs": [],
   "source": [
    "import pandas as pd\n",
    "import numpy as np\n",
    "from sklearn import metrics\n",
    "from sklearn.model_selection import train_test_split\n",
    "from sklearn.metrics import recall_score\n",
    "from sklearn.metrics import classification_report\n",
    "from sklearn.metrics import confusion_matrix\n",
    "from imblearn.combine import SMOTEENN\n",
    "from sklearn.ensemble import RandomForestClassifier\n",
    "from sklearn.preprocessing import StandardScaler\n",
    "from sklearn.tree import DecisionTreeClassifier\n",
    "import matplotlib.pyplot as plt\n",
    "import seaborn as sns\n",
    "from sklearn.metrics import accuracy_score\n",
    "from sklearn.feature_selection import SelectKBest\n",
    "from sklearn.feature_selection import mutual_info_classif\n",
    "from sklearn.feature_selection import chi2"
   ]
  },
  {
   "cell_type": "code",
   "execution_count": 2,
   "id": "9fb7dbff",
   "metadata": {},
   "outputs": [],
   "source": [
    "df = pd.read_csv('Dataset/df_with_dummies.csv').drop('Unnamed: 0' , axis=1)"
   ]
  },
  {
   "cell_type": "markdown",
   "id": "f8d2c868",
   "metadata": {},
   "source": [
    "* Load dataset and drop extra indexing column."
   ]
  },
  {
   "cell_type": "code",
   "execution_count": 3,
   "id": "294f9404",
   "metadata": {},
   "outputs": [
    {
     "data": {
      "text/html": [
       "<div>\n",
       "<style scoped>\n",
       "    .dataframe tbody tr th:only-of-type {\n",
       "        vertical-align: middle;\n",
       "    }\n",
       "\n",
       "    .dataframe tbody tr th {\n",
       "        vertical-align: top;\n",
       "    }\n",
       "\n",
       "    .dataframe thead th {\n",
       "        text-align: right;\n",
       "    }\n",
       "</style>\n",
       "<table border=\"1\" class=\"dataframe\">\n",
       "  <thead>\n",
       "    <tr style=\"text-align: right;\">\n",
       "      <th></th>\n",
       "      <th>MonthlyCharges</th>\n",
       "      <th>TotalCharges</th>\n",
       "      <th>Churn</th>\n",
       "      <th>gender_Female</th>\n",
       "      <th>gender_Male</th>\n",
       "      <th>SeniorCitizen_0</th>\n",
       "      <th>SeniorCitizen_1</th>\n",
       "      <th>Partner_No</th>\n",
       "      <th>Partner_Yes</th>\n",
       "      <th>Dependents_No</th>\n",
       "      <th>...</th>\n",
       "      <th>PaymentMethod_Bank transfer (automatic)</th>\n",
       "      <th>PaymentMethod_Credit card (automatic)</th>\n",
       "      <th>PaymentMethod_Electronic check</th>\n",
       "      <th>PaymentMethod_Mailed check</th>\n",
       "      <th>tenure_group_1 - 12</th>\n",
       "      <th>tenure_group_13 - 24</th>\n",
       "      <th>tenure_group_25 - 36</th>\n",
       "      <th>tenure_group_37 - 48</th>\n",
       "      <th>tenure_group_49 - 60</th>\n",
       "      <th>tenure_group_61 - 72</th>\n",
       "    </tr>\n",
       "  </thead>\n",
       "  <tbody>\n",
       "    <tr>\n",
       "      <th>0</th>\n",
       "      <td>-1.161694</td>\n",
       "      <td>-0.994194</td>\n",
       "      <td>0</td>\n",
       "      <td>1</td>\n",
       "      <td>0</td>\n",
       "      <td>1</td>\n",
       "      <td>0</td>\n",
       "      <td>0</td>\n",
       "      <td>1</td>\n",
       "      <td>1</td>\n",
       "      <td>...</td>\n",
       "      <td>0</td>\n",
       "      <td>0</td>\n",
       "      <td>1</td>\n",
       "      <td>0</td>\n",
       "      <td>1</td>\n",
       "      <td>0</td>\n",
       "      <td>0</td>\n",
       "      <td>0</td>\n",
       "      <td>0</td>\n",
       "      <td>0</td>\n",
       "    </tr>\n",
       "    <tr>\n",
       "      <th>1</th>\n",
       "      <td>-0.260878</td>\n",
       "      <td>-0.173740</td>\n",
       "      <td>0</td>\n",
       "      <td>0</td>\n",
       "      <td>1</td>\n",
       "      <td>1</td>\n",
       "      <td>0</td>\n",
       "      <td>1</td>\n",
       "      <td>0</td>\n",
       "      <td>1</td>\n",
       "      <td>...</td>\n",
       "      <td>0</td>\n",
       "      <td>0</td>\n",
       "      <td>0</td>\n",
       "      <td>1</td>\n",
       "      <td>0</td>\n",
       "      <td>0</td>\n",
       "      <td>1</td>\n",
       "      <td>0</td>\n",
       "      <td>0</td>\n",
       "      <td>0</td>\n",
       "    </tr>\n",
       "    <tr>\n",
       "      <th>2</th>\n",
       "      <td>-0.363923</td>\n",
       "      <td>-0.959649</td>\n",
       "      <td>1</td>\n",
       "      <td>0</td>\n",
       "      <td>1</td>\n",
       "      <td>1</td>\n",
       "      <td>0</td>\n",
       "      <td>1</td>\n",
       "      <td>0</td>\n",
       "      <td>1</td>\n",
       "      <td>...</td>\n",
       "      <td>0</td>\n",
       "      <td>0</td>\n",
       "      <td>0</td>\n",
       "      <td>1</td>\n",
       "      <td>1</td>\n",
       "      <td>0</td>\n",
       "      <td>0</td>\n",
       "      <td>0</td>\n",
       "      <td>0</td>\n",
       "      <td>0</td>\n",
       "    </tr>\n",
       "    <tr>\n",
       "      <th>3</th>\n",
       "      <td>-0.747850</td>\n",
       "      <td>-0.195248</td>\n",
       "      <td>0</td>\n",
       "      <td>0</td>\n",
       "      <td>1</td>\n",
       "      <td>1</td>\n",
       "      <td>0</td>\n",
       "      <td>1</td>\n",
       "      <td>0</td>\n",
       "      <td>1</td>\n",
       "      <td>...</td>\n",
       "      <td>1</td>\n",
       "      <td>0</td>\n",
       "      <td>0</td>\n",
       "      <td>0</td>\n",
       "      <td>0</td>\n",
       "      <td>0</td>\n",
       "      <td>0</td>\n",
       "      <td>1</td>\n",
       "      <td>0</td>\n",
       "      <td>0</td>\n",
       "    </tr>\n",
       "    <tr>\n",
       "      <th>4</th>\n",
       "      <td>0.196178</td>\n",
       "      <td>-0.940457</td>\n",
       "      <td>1</td>\n",
       "      <td>1</td>\n",
       "      <td>0</td>\n",
       "      <td>1</td>\n",
       "      <td>0</td>\n",
       "      <td>1</td>\n",
       "      <td>0</td>\n",
       "      <td>1</td>\n",
       "      <td>...</td>\n",
       "      <td>0</td>\n",
       "      <td>0</td>\n",
       "      <td>1</td>\n",
       "      <td>0</td>\n",
       "      <td>1</td>\n",
       "      <td>0</td>\n",
       "      <td>0</td>\n",
       "      <td>0</td>\n",
       "      <td>0</td>\n",
       "      <td>0</td>\n",
       "    </tr>\n",
       "  </tbody>\n",
       "</table>\n",
       "<p>5 rows × 52 columns</p>\n",
       "</div>"
      ],
      "text/plain": [
       "   MonthlyCharges  TotalCharges  Churn  gender_Female  gender_Male  \\\n",
       "0       -1.161694     -0.994194      0              1            0   \n",
       "1       -0.260878     -0.173740      0              0            1   \n",
       "2       -0.363923     -0.959649      1              0            1   \n",
       "3       -0.747850     -0.195248      0              0            1   \n",
       "4        0.196178     -0.940457      1              1            0   \n",
       "\n",
       "   SeniorCitizen_0  SeniorCitizen_1  Partner_No  Partner_Yes  Dependents_No  \\\n",
       "0                1                0           0            1              1   \n",
       "1                1                0           1            0              1   \n",
       "2                1                0           1            0              1   \n",
       "3                1                0           1            0              1   \n",
       "4                1                0           1            0              1   \n",
       "\n",
       "   ...  PaymentMethod_Bank transfer (automatic)  \\\n",
       "0  ...                                        0   \n",
       "1  ...                                        0   \n",
       "2  ...                                        0   \n",
       "3  ...                                        1   \n",
       "4  ...                                        0   \n",
       "\n",
       "   PaymentMethod_Credit card (automatic)  PaymentMethod_Electronic check  \\\n",
       "0                                      0                               1   \n",
       "1                                      0                               0   \n",
       "2                                      0                               0   \n",
       "3                                      0                               0   \n",
       "4                                      0                               1   \n",
       "\n",
       "   PaymentMethod_Mailed check  tenure_group_1 - 12  tenure_group_13 - 24  \\\n",
       "0                           0                    1                     0   \n",
       "1                           1                    0                     0   \n",
       "2                           1                    1                     0   \n",
       "3                           0                    0                     0   \n",
       "4                           0                    1                     0   \n",
       "\n",
       "   tenure_group_25 - 36  tenure_group_37 - 48  tenure_group_49 - 60  \\\n",
       "0                     0                     0                     0   \n",
       "1                     1                     0                     0   \n",
       "2                     0                     0                     0   \n",
       "3                     0                     1                     0   \n",
       "4                     0                     0                     0   \n",
       "\n",
       "   tenure_group_61 - 72  \n",
       "0                     0  \n",
       "1                     0  \n",
       "2                     0  \n",
       "3                     0  \n",
       "4                     0  \n",
       "\n",
       "[5 rows x 52 columns]"
      ]
     },
     "execution_count": 3,
     "metadata": {},
     "output_type": "execute_result"
    }
   ],
   "source": [
    "df.head(5)"
   ]
  },
  {
   "cell_type": "markdown",
   "id": "1bb0fdff",
   "metadata": {},
   "source": [
    "* Top five observations in dataset."
   ]
  },
  {
   "cell_type": "markdown",
   "id": "6378b3d0",
   "metadata": {},
   "source": [
    "# CLASS DISTRIBUTION"
   ]
  },
  {
   "cell_type": "code",
   "execution_count": 4,
   "id": "0aa2c419",
   "metadata": {},
   "outputs": [
    {
     "data": {
      "image/png": "[encoded data removed]",
      "text/plain": [
       "<Figure size 360x360 with 1 Axes>"
      ]
     },
     "metadata": {
      "needs_background": "light"
     },
     "output_type": "display_data"
    }
   ],
   "source": [
    "fig = plt.figure(figsize=(5,5))\n",
    "df.Churn.value_counts().plot(kind='bar')\n",
    "plt.xticks([0,1],['Not Churn' , 'Churn'])\n",
    "plt.ylabel('Observations')\n",
    "plt.title('Class Distribution')\n",
    "plt.show()"
   ]
  },
  {
   "cell_type": "markdown",
   "id": "42d4ceb8",
   "metadata": {},
   "source": [
    "* Insights showing that the dataset is imbalance such that the class to be predicted (**Churn**) contains few observations."
   ]
  },
  {
   "cell_type": "markdown",
   "id": "4b45e158",
   "metadata": {},
   "source": [
    "## MODEL WITH IMBALANCE DATASET"
   ]
  },
  {
   "cell_type": "code",
   "execution_count": 5,
   "id": "16389710",
   "metadata": {},
   "outputs": [],
   "source": [
    "x = df.drop('Churn' , axis=1)\n",
    "y = df.Churn\n",
    "x_train , x_test , y_train , y_test = train_test_split(x,y,test_size=0.33,random_state=42)"
   ]
  },
  {
   "cell_type": "markdown",
   "id": "9f473a52",
   "metadata": {},
   "source": [
    "* Split dataset into **Features** and **Target**."
   ]
  },
  {
   "cell_type": "markdown",
   "id": "415a34b6",
   "metadata": {},
   "source": [
    "## TRAIN MODEL WITH PARAMETER TUNNING"
   ]
  },
  {
   "cell_type": "code",
   "execution_count": 6,
   "id": "45c695f1",
   "metadata": {},
   "outputs": [
    {
     "name": "stdout",
     "output_type": "stream",
     "text": [
      ">1, train: 0.793, test: 0.789\n",
      ">2, train: 0.793, test: 0.789\n",
      ">3, train: 0.793, test: 0.789\n",
      ">4, train: 0.793, test: 0.789\n",
      ">5, train: 0.793, test: 0.789\n",
      ">6, train: 0.793, test: 0.789\n",
      ">7, train: 0.793, test: 0.789\n",
      ">8, train: 0.793, test: 0.789\n",
      ">9, train: 0.793, test: 0.789\n",
      ">10, train: 0.793, test: 0.789\n",
      ">11, train: 0.793, test: 0.789\n",
      ">12, train: 0.793, test: 0.789\n",
      ">13, train: 0.793, test: 0.789\n",
      ">14, train: 0.793, test: 0.789\n",
      ">15, train: 0.793, test: 0.789\n"
     ]
    },
    {
     "data": {
      "image/png": "[encoded data removed]",
      "text/plain": [
       "<Figure size 432x288 with 1 Axes>"
      ]
     },
     "metadata": {
      "needs_background": "light"
     },
     "output_type": "display_data"
    },
    {
     "name": "stdout",
     "output_type": "stream",
     "text": [
      "AxesSubplot(0.125,0.125;0.62x0.755)\n",
      "              precision    recall  f1-score   support\n",
      "\n",
      "           0       0.80      0.95      0.87      1711\n",
      "           1       0.70      0.34      0.46       610\n",
      "\n",
      "    accuracy                           0.79      2321\n",
      "   macro avg       0.75      0.64      0.66      2321\n",
      "weighted avg       0.78      0.79      0.76      2321\n",
      "\n"
     ]
    },
    {
     "data": {
      "image/png": "[encoded data removed]",
      "text/plain": [
       "<Figure size 432x288 with 2 Axes>"
      ]
     },
     "metadata": {
      "needs_background": "light"
     },
     "output_type": "display_data"
    }
   ],
   "source": [
    "values = [i for i in range(1, 16)]\n",
    "train_scores, test_scores = list(), list()\n",
    "for i in values:\n",
    "    # configure the model\n",
    "    model = RandomForestClassifier(criterion='entropy',max_depth=4,random_state=42,n_estimators=60,min_samples_leaf=15)\n",
    "    # fit model on the training dataset\n",
    "    model.fit(x_train, y_train)\n",
    "    # evaluate on the train dataset\n",
    "    train_yhat = model.predict(x_train)\n",
    "    train_acc = accuracy_score(y_train, train_yhat)\n",
    "    train_scores.append(train_acc)\n",
    "    # evaluate on the test dataset\n",
    "    test_yhat = model.predict(x_test)\n",
    "    rcm = confusion_matrix(y_test,test_yhat)\n",
    "    test_acc = accuracy_score(y_test, test_yhat)\n",
    "    test_scores.append(test_acc)\n",
    "    # summarize progress\n",
    "    print('>%d, train: %.3f, test: %.3f' % (i, train_acc, test_acc))\n",
    "    \n",
    "plt.plot(values, train_scores, '-o', label='Train')\n",
    "plt.plot(values, test_scores, '-o', label='Test')\n",
    "plt.legend()\n",
    "plt.show()\n",
    " \n",
    "rper = rcm/np.sum(rcm)\n",
    "rplo = sns.heatmap(rper , cmap='Blues',annot=True,fmt='.2%')\n",
    "print(rplo)\n",
    "print(classification_report(y_test, test_yhat))"
   ]
  },
  {
   "cell_type": "markdown",
   "id": "c3b8859d",
   "metadata": {},
   "source": [
    "* Model Evaluation shows that the imbalance dataset affects model performance."
   ]
  },
  {
   "cell_type": "markdown",
   "id": "0fe57331",
   "metadata": {},
   "source": [
    "## MODEL WITH BALANCE DATASET USING SMOTTEEN"
   ]
  },
  {
   "cell_type": "code",
   "execution_count": 7,
   "id": "432b7a26",
   "metadata": {},
   "outputs": [
    {
     "name": "stdout",
     "output_type": "stream",
     "text": [
      ">1, train: 0.906, test: 0.900\n",
      ">2, train: 0.906, test: 0.900\n",
      ">3, train: 0.906, test: 0.900\n",
      ">4, train: 0.906, test: 0.900\n",
      ">5, train: 0.906, test: 0.900\n",
      ">6, train: 0.906, test: 0.900\n",
      ">7, train: 0.906, test: 0.900\n",
      ">8, train: 0.906, test: 0.900\n",
      ">9, train: 0.906, test: 0.900\n",
      ">10, train: 0.906, test: 0.900\n",
      ">11, train: 0.906, test: 0.900\n",
      ">12, train: 0.906, test: 0.900\n",
      ">13, train: 0.906, test: 0.900\n",
      ">14, train: 0.906, test: 0.900\n",
      ">15, train: 0.906, test: 0.900\n"
     ]
    },
    {
     "data": {
      "image/png": "[encoded data removed]",
      "text/plain": [
       "<Figure size 432x288 with 1 Axes>"
      ]
     },
     "metadata": {
      "needs_background": "light"
     },
     "output_type": "display_data"
    },
    {
     "name": "stdout",
     "output_type": "stream",
     "text": [
      "AxesSubplot(0.125,0.125;0.62x0.755)\n",
      "              precision    recall  f1-score   support\n",
      "\n",
      "           0       0.91      0.85      0.88       904\n",
      "           1       0.89      0.94      0.91      1200\n",
      "\n",
      "    accuracy                           0.90      2104\n",
      "   macro avg       0.90      0.89      0.90      2104\n",
      "weighted avg       0.90      0.90      0.90      2104\n",
      "\n"
     ]
    },
    {
     "data": {
      "image/png": "[encoded data removed]",
      "text/plain": [
       "<Figure size 432x288 with 2 Axes>"
      ]
     },
     "metadata": {
      "needs_background": "light"
     },
     "output_type": "display_data"
    }
   ],
   "source": [
    "sm = SMOTEENN(sampling_strategy='minority',random_state=42)\n",
    "x_sample , y_sample = sm.fit_resample(x,y)\n",
    "x_train , x_test , y_train , y_test = train_test_split(x_sample,y_sample,test_size=0.33,random_state=42)\n",
    "values = [i for i in range(1, 16)]\n",
    "train_scores, test_scores = list(), list()\n",
    "for i in values:\n",
    "    # configure the model\n",
    "    model = RandomForestClassifier(criterion='entropy',max_depth=4,random_state=42,n_estimators=60,min_samples_leaf=15)\n",
    "    # fit model on the training dataset\n",
    "    model.fit(x_train, y_train)\n",
    "    # evaluate on the train dataset\n",
    "    train_yhat = model.predict(x_train)\n",
    "    train_acc = accuracy_score(y_train, train_yhat)\n",
    "    train_scores.append(train_acc)\n",
    "    # evaluate on the test dataset\n",
    "    test_yhat = model.predict(x_test)\n",
    "    rcm = confusion_matrix(y_test,test_yhat)\n",
    "    test_acc = accuracy_score(y_test, test_yhat)\n",
    "    test_scores.append(test_acc)\n",
    "    # summarize progress\n",
    "    print('>%d, train: %.3f, test: %.3f' % (i, train_acc, test_acc))\n",
    "    \n",
    "plt.plot(values, train_scores, '-o', label='Train')\n",
    "plt.plot(values, test_scores, '-o', label='Test')\n",
    "plt.legend()\n",
    "plt.show()\n",
    " \n",
    "rper = rcm/np.sum(rcm)\n",
    "rplo = sns.heatmap(rper , cmap='Blues',annot=True,fmt='.2%')\n",
    "print(rplo)\n",
    "print(classification_report(y_test, test_yhat))"
   ]
  },
  {
   "cell_type": "markdown",
   "id": "529b386c",
   "metadata": {},
   "source": [
    "* By using Synthitic Minority Over Sampling Technique the dataset is balanced and the model evaluation shows that the model is performing well."
   ]
  },
  {
   "cell_type": "markdown",
   "id": "986ca80c",
   "metadata": {},
   "source": [
    "# FEATURE SELECTION USING CHI SQUARE"
   ]
  },
  {
   "cell_type": "code",
   "execution_count": 8,
   "id": "2aaa90ad",
   "metadata": {
    "scrolled": false
   },
   "outputs": [
    {
     "name": "stdout",
     "output_type": "stream",
     "text": [
      "Feature 0: 0.461269 gender_Female\n",
      "Feature 1: 0.438540 gender_Male\n",
      "Feature 2: 17.733600 SeniorCitizen_0\n",
      "Feature 3: 91.759176 SeniorCitizen_1\n",
      "Feature 4: 46.850867 Partner_No\n",
      "Feature 5: 50.380162 Partner_Yes\n",
      "Feature 6: 41.640799 Dependents_No\n",
      "Feature 7: 98.081283 Dependents_Yes\n",
      "Feature 8: 1.458588 PhoneService_No\n",
      "Feature 9: 0.160118 PhoneService_Yes\n",
      "Feature 10: 2.918972 MultipleLines_No\n",
      "Feature 11: 1.458588 MultipleLines_No phone service\n",
      "Feature 12: 5.912467 MultipleLines_Yes\n",
      "Feature 13: 53.595657 InternetService_DSL\n",
      "Feature 14: 265.833284 InternetService_Fiber optic\n",
      "Feature 15: 192.589970 InternetService_No\n",
      "Feature 16: 284.643564 OnlineSecurity_No\n",
      "Feature 17: 192.589970 OnlineSecurity_No internet service\n",
      "Feature 18: 99.812602 OnlineSecurity_Yes\n",
      "Feature 19: 180.440582 OnlineBackup_No\n",
      "Feature 20: 192.589970 OnlineBackup_No internet service\n",
      "Feature 21: 15.931843 OnlineBackup_Yes\n",
      "Feature 22: 162.623917 DeviceProtection_No\n",
      "Feature 23: 192.589970 DeviceProtection_No internet service\n",
      "Feature 24: 10.949113 DeviceProtection_Yes\n",
      "Feature 25: 274.745290 TechSupport_No\n",
      "Feature 26: 192.589970 TechSupport_No internet service\n",
      "Feature 27: 91.912334 TechSupport_Yes\n",
      "Feature 28: 47.846254 StreamingTV_No\n",
      "Feature 29: 192.589970 StreamingTV_No internet service\n",
      "Feature 30: 11.816563 StreamingTV_Yes\n",
      "Feature 31: 47.975146 StreamingMovies_No\n",
      "Feature 32: 192.589970 StreamingMovies_No internet service\n",
      "Feature 33: 11.926964 StreamingMovies_Yes\n",
      "Feature 34: 371.447924 Contract_Month-to-month\n",
      "Feature 35: 134.969804 Contract_One year\n",
      "Feature 36: 328.874276 Contract_Two year\n",
      "Feature 37: 91.261773 PaperlessBilling_No\n",
      "Feature 38: 62.560843 PaperlessBilling_Yes\n",
      "Feature 39: 39.358003 PaymentMethod_Bank transfer (automatic)\n",
      "Feature 40: 73.257103 PaymentMethod_Credit card (automatic)\n",
      "Feature 41: 263.639250 PaymentMethod_Electronic check\n",
      "Feature 42: 29.984275 PaymentMethod_Mailed check\n",
      "Feature 43: 334.492670 tenure_group_1 - 12\n",
      "Feature 44: 0.526570 tenure_group_13 - 24\n",
      "Feature 45: 4.467454 tenure_group_25 - 36\n",
      "Feature 46: 21.158040 tenure_group_37 - 48\n",
      "Feature 47: 32.156688 tenure_group_49 - 60\n",
      "Feature 48: 200.663497 tenure_group_61 - 72\n"
     ]
    },
    {
     "data": {
      "image/png": "[encoded data removed]",
      "text/plain": [
       "<Figure size 1440x576 with 1 Axes>"
      ]
     },
     "metadata": {
      "needs_background": "light"
     },
     "output_type": "display_data"
    }
   ],
   "source": [
    "x = df.drop(['Churn','TotalCharges','MonthlyCharges'] , axis=1)\n",
    "y = df.Churn\n",
    "x_train , x_test , y_train , y_test = train_test_split(x,y,test_size=0.33,random_state=42)\n",
    "\n",
    "\n",
    "fs = SelectKBest(score_func=chi2, k='all')\n",
    "fs.fit(x_train, y_train)\n",
    "X_train_fs = fs.transform(x_train)\n",
    "X_test_fs = fs.transform(x_test)\n",
    "\n",
    "\n",
    "for i in range(len(fs.scores_)):\n",
    "    print('Feature %d: %f' % (i, fs.scores_[i]) , x.columns[i])\n",
    "# plot the scores\n",
    "plt.figure(figsize=(20,8))\n",
    "plt.xticks(np.arange(0,49,1))\n",
    "plt.bar([i for i in range(len(fs.scores_))], (fs.scores_/np.sum(fs.scores_)*10))\n",
    "plt.show()\n"
   ]
  },
  {
   "cell_type": "markdown",
   "id": "1f121b0a",
   "metadata": {},
   "source": [
    "* Figure shows the features that are participating in customer **Churn**."
   ]
  },
  {
   "cell_type": "code",
   "execution_count": 9,
   "id": "6f825326",
   "metadata": {},
   "outputs": [
    {
     "name": "stdout",
     "output_type": "stream",
     "text": [
      "DeviceProtection_No                     0.309391\n",
      "OnlineBackup_No                         0.343287\n",
      "StreamingTV_No internet service         0.366401\n",
      "StreamingMovies_No internet service     0.366401\n",
      "TechSupport_No internet service         0.366401\n",
      "DeviceProtection_No internet service    0.366401\n",
      "OnlineBackup_No internet service        0.366401\n",
      "OnlineSecurity_No internet service      0.366401\n",
      "InternetService_No                      0.366401\n",
      "tenure_group_61 - 72                    0.381761\n",
      "PaymentMethod_Electronic check          0.501572\n",
      "InternetService_Fiber optic             0.505747\n",
      "TechSupport_No                          0.522702\n",
      "OnlineSecurity_No                       0.541533\n",
      "Contract_Two year                       0.625682\n",
      "tenure_group_1 - 12                     0.636371\n",
      "Contract_Month-to-month                 0.706678\n",
      "dtype: float64\n"
     ]
    }
   ],
   "source": [
    "sf_p = pd.Series((fs.scores_/np.sum(fs.scores_)*10),index=x.columns)\n",
    "sf_p.sort_values(ascending=True,inplace=True)\n",
    "selected_f = sf_p.tail(17)\n",
    "print(selected_f)"
   ]
  },
  {
   "cell_type": "markdown",
   "id": "6fed78c9",
   "metadata": {},
   "source": [
    "* Features with higher number of score."
   ]
  },
  {
   "cell_type": "code",
   "execution_count": 10,
   "id": "53e934f8",
   "metadata": {},
   "outputs": [
    {
     "name": "stdout",
     "output_type": "stream",
     "text": [
      "Churn                                      1.000000\n",
      "Contract_Month-to-month                    0.404565\n",
      "OnlineSecurity_No                          0.342235\n",
      "TechSupport_No                             0.336877\n",
      "tenure_group_1 - 12                        0.319628\n",
      "InternetService_Fiber optic                0.307463\n",
      "PaymentMethod_Electronic check             0.301455\n",
      "OnlineBackup_No                            0.267595\n",
      "DeviceProtection_No                        0.252056\n",
      "MonthlyCharges                             0.192858\n",
      "PaperlessBilling_Yes                       0.191454\n",
      "Dependents_No                              0.163128\n",
      "SeniorCitizen_1                            0.150541\n",
      "Partner_No                                 0.149982\n",
      "StreamingMovies_No                         0.130920\n",
      "StreamingTV_No                             0.128435\n",
      "StreamingTV_Yes                            0.063254\n",
      "StreamingMovies_Yes                        0.060860\n",
      "MultipleLines_Yes                          0.040033\n",
      "tenure_group_13 - 24                       0.019929\n",
      "PhoneService_Yes                           0.011691\n",
      "gender_Female                              0.008545\n",
      "gender_Male                               -0.008545\n",
      "MultipleLines_No phone service            -0.011691\n",
      "PhoneService_No                           -0.011691\n",
      "MultipleLines_No                          -0.032654\n",
      "tenure_group_25 - 36                      -0.040997\n",
      "tenure_group_37 - 48                      -0.059579\n",
      "DeviceProtection_Yes                      -0.066193\n",
      "OnlineBackup_Yes                          -0.082307\n",
      "PaymentMethod_Mailed check                -0.090773\n",
      "tenure_group_49 - 60                      -0.100800\n",
      "PaymentMethod_Bank transfer (automatic)   -0.118136\n",
      "InternetService_DSL                       -0.124141\n",
      "PaymentMethod_Credit card (automatic)     -0.134687\n",
      "Partner_Yes                               -0.149982\n",
      "SeniorCitizen_0                           -0.150541\n",
      "Dependents_Yes                            -0.163128\n",
      "TechSupport_Yes                           -0.164716\n",
      "OnlineSecurity_Yes                        -0.171270\n",
      "Contract_One year                         -0.178225\n",
      "PaperlessBilling_No                       -0.191454\n",
      "TotalCharges                              -0.199484\n",
      "tenure_group_61 - 72                      -0.226078\n",
      "StreamingMovies_No internet service       -0.227578\n",
      "StreamingTV_No internet service           -0.227578\n",
      "TechSupport_No internet service           -0.227578\n",
      "OnlineBackup_No internet service          -0.227578\n",
      "OnlineSecurity_No internet service        -0.227578\n",
      "InternetService_No                        -0.227578\n",
      "DeviceProtection_No internet service      -0.227578\n",
      "Contract_Two year                         -0.301552\n",
      "Name: Churn, dtype: float64\n"
     ]
    }
   ],
   "source": [
    "abss = df.corr().Churn.copy()\n",
    "abss.sort_values(ascending=False,inplace=True)\n",
    "print(abss)"
   ]
  },
  {
   "cell_type": "markdown",
   "id": "f8f45771",
   "metadata": {},
   "source": [
    "* Comparing Features correlation with Churn."
   ]
  },
  {
   "cell_type": "markdown",
   "id": "93100a08",
   "metadata": {},
   "source": [
    "## MODEL WITH SELECTED FEATURES AND SMOTTEEN"
   ]
  },
  {
   "cell_type": "code",
   "execution_count": 11,
   "id": "6609491d",
   "metadata": {},
   "outputs": [],
   "source": [
    "features = list(selected_f.index.values)\n",
    "features.extend(['MonthlyCharges','TotalCharges','Churn'])\n",
    "min_df = df[features].copy()"
   ]
  },
  {
   "cell_type": "markdown",
   "id": "fbb1a53d",
   "metadata": {},
   "source": [
    "* Triming dataset with selected features."
   ]
  },
  {
   "cell_type": "code",
   "execution_count": 12,
   "id": "40a6faa0",
   "metadata": {},
   "outputs": [],
   "source": [
    "x = min_df.drop('Churn' , axis = 1)\n",
    "y = min_df.Churn\n",
    "\n",
    "sm = SMOTEENN(sampling_strategy='minority')\n",
    "x_sample , y_sample = sm.fit_resample(x,y)"
   ]
  },
  {
   "cell_type": "markdown",
   "id": "330e5b13",
   "metadata": {},
   "source": [
    "* Splitting dataset and performing SMOTTEEN."
   ]
  },
  {
   "cell_type": "code",
   "execution_count": 13,
   "id": "3784cf7a",
   "metadata": {
    "scrolled": false
   },
   "outputs": [
    {
     "name": "stdout",
     "output_type": "stream",
     "text": [
      ">1, train: 0.958, test: 0.945\n",
      ">2, train: 0.958, test: 0.945\n",
      ">3, train: 0.958, test: 0.945\n",
      ">4, train: 0.958, test: 0.945\n",
      ">5, train: 0.958, test: 0.945\n",
      ">6, train: 0.958, test: 0.945\n",
      ">7, train: 0.958, test: 0.945\n",
      ">8, train: 0.958, test: 0.945\n",
      ">9, train: 0.958, test: 0.945\n",
      ">10, train: 0.958, test: 0.945\n",
      ">11, train: 0.958, test: 0.945\n",
      ">12, train: 0.958, test: 0.945\n",
      ">13, train: 0.958, test: 0.945\n",
      ">14, train: 0.958, test: 0.945\n",
      ">15, train: 0.958, test: 0.945\n",
      ">16, train: 0.958, test: 0.945\n",
      ">17, train: 0.958, test: 0.945\n",
      ">18, train: 0.958, test: 0.945\n",
      ">19, train: 0.958, test: 0.945\n"
     ]
    },
    {
     "data": {
      "image/png": "[encoded data removed]",
      "text/plain": [
       "<Figure size 432x288 with 1 Axes>"
      ]
     },
     "metadata": {
      "needs_background": "light"
     },
     "output_type": "display_data"
    },
    {
     "name": "stdout",
     "output_type": "stream",
     "text": [
      "              precision    recall  f1-score   support\n",
      "\n",
      "           0       0.95      0.94      0.95      1049\n",
      "           1       0.94      0.95      0.94       996\n",
      "\n",
      "    accuracy                           0.95      2045\n",
      "   macro avg       0.95      0.95      0.95      2045\n",
      "weighted avg       0.95      0.95      0.95      2045\n",
      "\n",
      "AxesSubplot(0.125,0.125;0.62x0.755)\n"
     ]
    },
    {
     "data": {
      "image/png": "[encoded data removed]",
      "text/plain": [
       "<Figure size 432x288 with 2 Axes>"
      ]
     },
     "metadata": {
      "needs_background": "light"
     },
     "output_type": "display_data"
    }
   ],
   "source": [
    "x_train , x_test , y_train , y_test = train_test_split(x_sample,y_sample,test_size=0.33,random_state=42)\n",
    "values = [i for i in range(1, 20)]\n",
    "train_scores, test_scores = list(), list()\n",
    "test_yhat = np.array\n",
    "for i in values:\n",
    "    # configure the model\n",
    "    model = RandomForestClassifier(criterion='entropy',max_depth=8,random_state=42,n_estimators=77,min_samples_leaf=1,n_jobs=-1)\n",
    "    # fit model on the training dataset\n",
    "    model.fit(x_train, y_train)\n",
    "    # evaluate on the train dataset\n",
    "    train_yhat = model.predict(x_train)\n",
    "    train_acc = accuracy_score(y_train, train_yhat)\n",
    "    train_scores.append(train_acc)\n",
    "    # evaluate on the test dataset\n",
    "    test_yhat = model.predict(x_test)\n",
    "    rcm = confusion_matrix(y_test,test_yhat)\n",
    "    test_acc = accuracy_score(y_test, test_yhat)\n",
    "    test_scores.append(test_acc)\n",
    "    # summarize progress\n",
    "    print('>%d, train: %.3f, test: %.3f' % (i, train_acc, test_acc))\n",
    "    \n",
    "    \n",
    "plt.plot(values, train_scores, '-o', label='Train')\n",
    "plt.plot(values, test_scores, '-o', label='Test')\n",
    "plt.legend()\n",
    "plt.show()\n",
    "print(classification_report(y_test,test_yhat))\n",
    "rper = rcm/np.sum(rcm)\n",
    "rplo = sns.heatmap(rper , cmap='Blues',annot=True,fmt='.2%')\n",
    "print(rplo)"
   ]
  },
  {
   "cell_type": "markdown",
   "id": "79258888",
   "metadata": {},
   "source": [
    "* Due lower number of selected features and balance dataset the model is performing well in training and testing hence the model is balanced and ready for deploying."
   ]
  },
  {
   "cell_type": "markdown",
   "id": "e123c6f7",
   "metadata": {},
   "source": [
    "## RANDOM DATA TESTING"
   ]
  },
  {
   "cell_type": "code",
   "execution_count": 14,
   "id": "2e3802dc",
   "metadata": {},
   "outputs": [
    {
     "data": {
      "text/plain": [
       "0.9992562998345158"
      ]
     },
     "execution_count": 14,
     "metadata": {},
     "output_type": "execute_result"
    }
   ],
   "source": [
    "model.predict_proba([[1,1,0,0,0,0,0,0,0,0,1,1,1,1,0,1,1,0.786517,-0.968336]])[0][1]"
   ]
  },
  {
   "cell_type": "markdown",
   "id": "bc8cccb6",
   "metadata": {},
   "source": [
    "* Model is predicting probability of churn."
   ]
  },
  {
   "cell_type": "markdown",
   "id": "187198f6",
   "metadata": {},
   "source": [
    "## DUMP MODEL"
   ]
  },
  {
   "cell_type": "code",
   "execution_count": 15,
   "id": "020c0361",
   "metadata": {},
   "outputs": [],
   "source": [
    "# import pickle"
   ]
  },
  {
   "cell_type": "code",
   "execution_count": 16,
   "id": "0172a575",
   "metadata": {},
   "outputs": [],
   "source": [
    "# pickle.dump(model,open('model.sav','wb'))"
   ]
  },
  {
   "cell_type": "code",
   "execution_count": 17,
   "id": "59656d66",
   "metadata": {},
   "outputs": [],
   "source": [
    "# loaded_model = pickle.load(open('model.sav','rb'))"
   ]
  }
 ],
 "metadata": {
  "kernelspec": {
   "display_name": "Python 3",
   "language": "python",
   "name": "python3"
  },
  "language_info": {
   "codemirror_mode": {
    "name": "ipython",
    "version": 3
   },
   "file_extension": ".py",
   "mimetype": "text/x-python",
   "name": "python",
   "nbconvert_exporter": "python",
   "pygments_lexer": "ipython3",
   "version": "3.8.9"
  }
 },
 "nbformat": 4,
 "nbformat_minor": 5
}
